{
 "cells": [
  {
   "cell_type": "code",
   "execution_count": null,
   "id": "be9089cf-83e2-48b4-b7d9-f1690e163d52",
   "metadata": {},
   "outputs": [],
   "source": [
    "# Actuarial MFE Kaggle Competition - EDA & Baseline\n",
    "\n",
    "## 1. Overview\n",
    "\n",
    "Brief summary of the competition, objectives, and your game plan.\n",
    "\n",
    "## 2. Data Understanding\n",
    "- Load `train.csv`, `test.csv`, and `sample_submission.csv`\n",
    "- Explore column types, missing values, and class balance\n",
    "\n",
    "## 3. Exploratory Data Analysis (EDA)\n",
    "- Visualizations\n",
    "- Distributions\n",
    "- Correlations\n",
    "\n",
    "## 4. Baseline Modeling\n",
    "- Simple classifier or regressor\n",
    "- Use `sklearn` or `xgboost`\n",
    "\n",
    "## 5. Evaluation\n",
    "\n",
    "## 6. Submission\n",
    "- Generate predictions\n",
    "- Save to `output/submission.csv`\n"
   ]
  },
  {
   "cell_type": "code",
   "execution_count": null,
   "id": "f04bd61d",
   "metadata": {},
   "outputs": [],
   "source": []
  }
 ],
 "metadata": {
  "kernelspec": {
   "display_name": "Python 3 (ipykernel)",
   "language": "python",
   "name": "python3"
  },
  "language_info": {
   "codemirror_mode": {
    "name": "ipython",
    "version": 3
   },
   "file_extension": ".py",
   "mimetype": "text/x-python",
   "name": "python",
   "nbconvert_exporter": "python",
   "pygments_lexer": "ipython3",
   "version": "3.9.6"
  }
 },
 "nbformat": 4,
 "nbformat_minor": 5
}
